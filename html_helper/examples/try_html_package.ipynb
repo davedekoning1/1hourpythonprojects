{
 "cells": [
  {
   "cell_type": "code",
   "execution_count": 1,
   "metadata": {},
   "outputs": [],
   "source": [
    "from pathlib import Path"
   ]
  },
  {
   "cell_type": "code",
   "execution_count": 5,
   "metadata": {},
   "outputs": [
    {
     "name": "stdout",
     "output_type": "stream",
     "text": [
      "c:\\Users\\DavedeKoning\\Documents\\GitHub\\1hourpythonprojects\\html_helper\\examples\\..\\tests\\test_data\\output\\figures\n"
     ]
    }
   ],
   "source": [
    "\n",
    "test_dir = Path.cwd() / \"..\" / \"tests\"\n",
    "data_dir = test_dir / \"test_data\"\n",
    "reference_dir = data_dir / \"reference\"\n",
    "output_dir = data_dir / \"output\"\n",
    "\n",
    "for child in output_dir.iterdir():\n",
    "    print(child)\n",
    "    if Path.is_file(child):\n",
    "        child.unlink()\n"
   ]
  },
  {
   "cell_type": "code",
   "execution_count": null,
   "metadata": {},
   "outputs": [],
   "source": []
  }
 ],
 "metadata": {
  "kernelspec": {
   "display_name": "html_helper",
   "language": "python",
   "name": "python3"
  },
  "language_info": {
   "codemirror_mode": {
    "name": "ipython",
    "version": 3
   },
   "file_extension": ".py",
   "mimetype": "text/x-python",
   "name": "python",
   "nbconvert_exporter": "python",
   "pygments_lexer": "ipython3",
   "version": "3.11.1"
  }
 },
 "nbformat": 4,
 "nbformat_minor": 2
}
